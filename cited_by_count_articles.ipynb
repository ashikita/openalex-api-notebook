{
  "nbformat": 4,
  "nbformat_minor": 0,
  "metadata": {
    "colab": {
      "provenance": [],
      "authorship_tag": "ABX9TyOJ7et70N/svOb7ZeZJA7H5",
      "include_colab_link": true
    },
    "kernelspec": {
      "name": "python3",
      "display_name": "Python 3"
    },
    "language_info": {
      "name": "python"
    }
  },
  "cells": [
    {
      "cell_type": "markdown",
      "metadata": {
        "id": "view-in-github",
        "colab_type": "text"
      },
      "source": [
        "<a href=\"https://colab.research.google.com/github/ashikita/openalex-api-notebook/blob/main/cited_by_count_articles.ipynb\" target=\"_parent\"><img src=\"https://colab.research.google.com/assets/colab-badge.svg\" alt=\"Open In Colab\"/></a>"
      ]
    },
    {
      "cell_type": "markdown",
      "source": [
        "Pyalexを使ってOpenAlexから論文情報を取得します。"
      ],
      "metadata": {
        "id": "sMY6HPXTSRnU"
      }
    },
    {
      "cell_type": "code",
      "source": [
        "# 初回のみ実行\n",
        "!pip install pyalex"
      ],
      "metadata": {
        "id": "ISi5E-YiXviW"
      },
      "execution_count": null,
      "outputs": []
    },
    {
      "cell_type": "code",
      "execution_count": 2,
      "metadata": {
        "id": "6el20VQ4wvCy",
        "outputId": "dd9eb328-4326-450d-b828-4f8920701f56",
        "colab": {
          "base_uri": "https://localhost:8080/"
        }
      },
      "outputs": [
        {
          "output_type": "stream",
          "name": "stdout",
          "text": [
            "✅ データは output.tsv に保存されました。\n"
          ]
        }
      ],
      "source": [
        "import pyalex\n",
        "from pyalex import Works\n",
        "import csv\n",
        "\n",
        "# === 設定項目 ===\n",
        "ROR_ID = \"00p4k0j84\"\n",
        "FROM_DATE = \"2024-01-01\"\n",
        "TO_DATE = \"2024-12-31\"\n",
        "MAX_RESULTS = 1000\n",
        "PER_PAGE = 200  # OpenAlexの最大値\n",
        "OUTPUT_FILE = \"output.tsv\"\n",
        "\n",
        "pyalex.config.email = \"hogehoge@m.kyushu-u.ac.jp\"\n",
        "\n",
        "# ページネーション処理\n",
        "results = []\n",
        "cursor = \"*\"\n",
        "while len(results) < MAX_RESULTS:\n",
        "    batch = Works() \\\n",
        "        .filter(\n",
        "            authorships={\"institutions\": {\"ror\": ROR_ID}},\n",
        "            from_publication_date=FROM_DATE,\n",
        "            to_publication_date=TO_DATE\n",
        "        ) \\\n",
        "        .sort(cited_by_count=\"desc\") \\\n",
        "        .get(per_page=PER_PAGE, cursor=cursor)\n",
        "\n",
        "    results.extend(batch)\n",
        "    if len(batch) < PER_PAGE:\n",
        "        break  # これ以上データがない\n",
        "    cursor = batch.meta[\"next_cursor\"]\n",
        "\n",
        "# 必要な要素だけ抽出\n",
        "filtered_results = []\n",
        "for work in results[:MAX_RESULTS]:  # 念のため上限をかける\n",
        "    corresponding_authors = []\n",
        "    for authorship in work.get(\"authorships\", []):\n",
        "        if authorship.get(\"is_corresponding\"):\n",
        "            for institution in authorship.get(\"institutions\", []):\n",
        "                if institution.get(\"ror\") == f\"https://ror.org/{ROR_ID}\":\n",
        "                    display_name = authorship.get(\"author\", {}).get(\"display_name\")\n",
        "                    if display_name:\n",
        "                        corresponding_authors.append(display_name)\n",
        "                    break\n",
        "\n",
        "    filtered_results.append({\n",
        "        \"doi\": work.get(\"doi\"),\n",
        "        \"publication_date\": work.get(\"publication_date\"),\n",
        "        \"cited_by_count\": work.get(\"cited_by_count\"),\n",
        "        \"is_oa\": work.get(\"open_access\", {}).get(\"is_oa\"),\n",
        "        \"oa_status\": work.get(\"open_access\", {}).get(\"oa_status\"),\n",
        "        \"oa_url\": work.get(\"open_access\", {}).get(\"oa_url\"),\n",
        "        \"any_repository_has_fulltext\": work.get(\"open_access\", {}).get(\"any_repository_has_fulltext\"),\n",
        "        \"corresponding_authors\": \", \".join(corresponding_authors)\n",
        "    })\n",
        "\n",
        "# TSVファイルに保存\n",
        "with open(OUTPUT_FILE, \"w\", newline='', encoding=\"utf-8\") as f:\n",
        "    writer = csv.DictWriter(f, fieldnames=[\n",
        "        \"doi\", \"publication_date\", \"cited_by_count\",\n",
        "        \"is_oa\", \"oa_status\", \"oa_url\", \"any_repository_has_fulltext\",\n",
        "        \"corresponding_authors\"\n",
        "    ], delimiter='\\t')\n",
        "    writer.writeheader()\n",
        "    writer.writerows(filtered_results)\n",
        "\n",
        "print(f\"✅ {len(filtered_results)} 件のデータを {OUTPUT_FILE} に保存しました。\")\n"
      ]
    }
  ]
}