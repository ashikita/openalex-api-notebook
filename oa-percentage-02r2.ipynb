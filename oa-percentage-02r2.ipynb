{
  "cells": [
    {
      "cell_type": "markdown",
      "id": "cd151571-2976-4e81-a1e2-2cf716466271",
      "metadata": {
        "id": "cd151571-2976-4e81-a1e2-2cf716466271"
      },
      "source": [
        "<div align=\"center\" style=\"border:solid 1px gray;\">\n",
        "    <a href=\"https://openalex.org/\">\n",
        "        <img src=\"https://raw.githubusercontent.com/ourresearch/openalex-api-tutorials/1988d22c5499d6a1f68d85ef2902b600b555aaa5/resources/img/OpenAlex-banner.png\" alt=\"OpenAlex banner\" width=\"300\">\n",
        "    </a>\n",
        "</div>"
      ]
    },
    {
      "cell_type": "markdown",
      "id": "e141e5ff-f69d-4563-a556-ce1e746aef14",
      "metadata": {
        "id": "e141e5ff-f69d-4563-a556-ce1e746aef14"
      },
      "source": [
        "# Monitoring Open Access publications for a given institution\n",
        "\n",
        "<div style='background:#e7edf7'>\n",
        "    In this notebook we will query the OpenAlex API to answer the question:\n",
        "    <blockquote>\n",
        "        <b><i>How many of recent journal articles from a given institution are Open Access? And how many aren't?</i></b>\n",
        "    </blockquote>\n",
        "    To get to the bottom of this, we will use the following API functionalities:\n",
        "    <a href=\"https://docs.openalex.org/how-to-use-the-api/get-lists-of-entities/filter-entity-lists\">filtering</a> and\n",
        "    <a href=\"https://docs.openalex.org/how-to-use-the-api/get-groups-of-entities\">grouping</a>\n",
        "</div>\n",
        "<br>\n",
        "\n",
        "Imagine you would like to track the University of Florida's progress in the transition towards Open Access (OA). How could you do that using OpenAlex?\n",
        "\n",
        "### Steps\n",
        "Let's start by dividing the process into smaller, more manageable steps:\n",
        "1. First we need to get all recent journal articles from the University of Florida\n",
        "2. Next we divide them into open and closed access\n",
        "3. Finally we count the publications in each category\n",
        "4. Additionally we can put the numbers into a plot to visualize our findings\n",
        "\n",
        "### Input\n",
        "The only input we need is an identifier for the institution and here we opted for its [ROR ID](https://ror.org/).  \n",
        "If we look up the University of Florida in the ROR registry we find its ROR ID is https://ror.org/02y3ad647:"
      ]
    },
    {
      "cell_type": "code",
      "execution_count": 1,
      "id": "558a64e5-2fea-44af-b0be-35d67eb23553",
      "metadata": {
        "tags": [],
        "id": "558a64e5-2fea-44af-b0be-35d67eb23553"
      },
      "outputs": [],
      "source": [
        "#input\n",
        "# ror = 'https://ror.org/02y3ad647'\n",
        "ror = 'https://ror.org/00p4k0j84' #九州大学"
      ]
    },
    {
      "cell_type": "markdown",
      "id": "f7216c04-3575-4d14-a4ed-5bb66401f5e4",
      "metadata": {
        "id": "f7216c04-3575-4d14-a4ed-5bb66401f5e4"
      },
      "source": [
        "All set, so let's dive in!\n",
        "\n",
        "<hr>\n",
        "\n",
        "## 1. Get all recent journal articles from the University of Florida\n",
        "The first step in querying OpenAlex is always to build the URL to get exactly the data we need. We need to ask two things:\n",
        "1. About which entity type (author, concept, institution, venue, work) do we want data?  \n",
        "* --> Since we want to query for metadata about \"_journal articles_\", the entity type should be `works`.\n",
        "\n",
        "2. What are the criteria the works need to fulfill to fit our purpose?  \n",
        "* Here we need to look into the list of available [filters for works](https://docs.openalex.org/api-entities/works/filter-works) and select the appropriate ones.  \n",
        "* --> We want to query for \"_all recent journal articles from the University of Florida_\", so we will filter for the works that:\n",
        "  * were published in the last 10 years (=recent): `from_publication_date:2012-08-24`,\n",
        "  * are specified as articles: `type:article`,\n",
        "  * have at least one [authorship](https://docs.openalex.org/api-entities/works/work-object#authorships) affiliation with the University of Florida: `institutions.ror:https://ror.org/02y3ad647`,\n",
        "  * are not [paratext](https://docs.openalex.org/api-entities/works/work-object#is_paratext): `is_paratext:false`\n",
        "\n",
        "<br>\n",
        "\n",
        "Now we need to **put the URL together** from these parts as follows:  \n",
        "* Starting point is the base URL of the OpenAlex API: `https://api.openalex.org/`\n",
        "* We append the entity type to it: `https://api.openalex.org/works`\n",
        "* All criteria need to go into the query parameter `filter` that is added after a question mark: `https://api.openalex.org/works?filter=`\n",
        "* To construct the filter value we take the criteria we specified and concatenate them using commas as separators:  \n",
        "`https://api.openalex.org/works?filter=institutions.ror:https://ror.org/02y3ad647,type:article,from_publication_date:2012-08-24,is_paratext:false`\n",
        "\n",
        "With this URL we can get all recent journal articles from the University of Florida!"
      ]
    },
    {
      "cell_type": "code",
      "execution_count": null,
      "id": "98345207-4fa0-4799-ba03-5179491adbda",
      "metadata": {
        "tags": [],
        "id": "98345207-4fa0-4799-ba03-5179491adbda"
      },
      "outputs": [],
      "source": [
        "from_date = \"2020-01-01\"\n",
        "to_date = \"2024-12-31\"\n",
        "\n",
        "## topics.domain\n",
        "# id:1 Life Sciences\n",
        "#'id:2, Social Sciences\n",
        "#'id:3, Physical Sciences\n",
        "#'id:4, Health Sciences\n",
        "## topics.field\n",
        "# id:11, Agricultural and Biological Sciences (農学・生物科学)\n",
        "# id:12, Arts and Humanities (人文科学)\n",
        "# id:13, Biochemistry, Genetics and Molecular Biology (生化学・遺伝学・分子生物学)\n",
        "# id:14, Business, Management and Accounting (経営学・管理学・会計学)\n",
        "# id:15, Chemical Engineering (化学工学)\n",
        "# id:16, Chemistry (化学)\n",
        "# id:17, Computer Science (コンピューターサイエンス)\n",
        "# id:18, Decision Sciences (意思決定科学)\n",
        "# id:19, Earth and Planetary Sciences (地球惑星科学)\n",
        "# id:20, Economics, Econometrics and Finance (経済学・計量経済学・金融学)\n",
        "# id:21, Energy (エネルギー学)\n",
        "# id:22, Engineering (工学)\n",
        "# id:23, Environmental Science (環境科学)\n",
        "# id:24, Immunology and Microbiology (免疫学・微生物学)\n",
        "# id:25, Materials Science (材料科学)\n",
        "# id:26, Mathematics (数学)\n",
        "# id:27, Medicine (医学)\n",
        "# id:28, Neuroscience (神経科学)\n",
        "# id:29, Nursing (看護学)\n",
        "# id:30, Pharmacology, Toxicology and Pharmaceutics (薬理学、毒性学および製剤学)\n",
        "# id:31, Physics and Astronomy (物理学および天文学)\n",
        "# id:32, Psychology (心理学)\n",
        "# id:33, Social Sciences (社会科学)\n",
        "# id:34, Veterinary (獣医学)\n",
        "# id:35, Dentistry (歯学)\n",
        "# id:36, Health Professions (医療専門職)\n",
        "\n",
        "def build_institution_works_url(ror):\n",
        "    # specify endpoint\n",
        "    endpoint = 'works'\n",
        "\n",
        "    # build the 'filter' parameter\n",
        "    filters = (\n",
        "        f'institutions.ror:{ror}',\n",
        "        'is_paratext:false',\n",
        "        'type:article',\n",
        "        #'topics.domain.id:1', #Life Sciences\n",
        "        #'topics.field.id:11', #Agricultural and Biological Sciences (農学・生物科学)\n",
        "        #'topics.field.id:26', #Mathematics(数学)\n",
        "        #'topics.field.id:27', #Medicine(医学)\n",
        "        #'topics.field.id:27|28', #Medicine(医学) or Neuroscience(神経科学)\n",
        "        #'topics.field.id:27|28|29|30|34|35|36', #医学、神経科学、看護学、薬学、獣医学、歯学、医療専門職\n",
        "        f'from_publication_date:{from_date}',\n",
        "        f'to_publication_date:{to_date}'\n",
        "    )\n",
        "\n",
        "    # put the URL together\n",
        "    return f'https://api.openalex.org/{endpoint}?filter={\",\".join(filters)}'\n",
        "\n",
        "filtered_works_url = build_institution_works_url(ror)\n",
        "print(f'complete URL with filters:\\n{filtered_works_url}')"
      ]
    },
    {
      "cell_type": "markdown",
      "id": "58b725da-3088-4e5b-b69a-2b3c18487956",
      "metadata": {
        "id": "58b725da-3088-4e5b-b69a-2b3c18487956"
      },
      "source": [
        "<hr>\n",
        "\n",
        "## 2. Divide them into open and closed access\n",
        "To get the number of open and closed works, we need to find an additional attribute that we can use to divide the retrieved works further into these categories. Fortunately OpenAlex includes information about the access status of a work in its metadata via the nested [OpenAccess object](https://docs.openalex.org/api-entities/works/work-object#the-openaccess-object). It is made up of the three attributes\n",
        "* `is_oa` _(Boolean): True if this work is Open Access._\n",
        "* `oa_status` _(String): The Open Access (OA) status of this work. Possible values are gold, green, hybrid, bronze, closed._\n",
        "* `oa_url` _(String): The best Open Access (OA) URL for this work._\n",
        "\n",
        "**-->`is_oa` seems to be exactly the criterion we are looking for!**\n",
        "\n",
        "\n",
        "#### Shortcut `group_by`\n",
        "So one way to get the number of open and closed works would be to add `is_oa` as an additional filter to our query and query OpenAlex for each value in its range `{true, false}` to get its resulting count of works, e.g.\n",
        "* `filter=...,is_oa:true`\n",
        "* `filter=...,is_oa:false`\n",
        "\n",
        "\n",
        "But wait! Isn't that exactly what `group_by` does?  \n",
        "Yes, absolutely, the `group_by` parameter takes one attribute as input, divides the list of results based on the attribute's values and returns each of their counts. What a time saver!\n",
        "\n",
        "Let's add `group_by=is_oa` as an additional query parameter to the end of our URL:"
      ]
    },
    {
      "cell_type": "code",
      "execution_count": 4,
      "id": "bc0569ad-cd73-460e-8472-27d92c310ff6",
      "metadata": {
        "id": "bc0569ad-cd73-460e-8472-27d92c310ff6",
        "colab": {
          "base_uri": "https://localhost:8080/"
        },
        "outputId": "a1d37698-5a76-4ff9-f904-c54ca2ed761e"
      },
      "outputs": [
        {
          "output_type": "stream",
          "name": "stdout",
          "text": [
            "complete URL with group_by:\n",
            "https://api.openalex.org/works?filter=institutions.ror:https://ror.org/00p4k0j84,is_paratext:false,type:article,topics.field.id:11,from_publication_date:2020-01-01,to_publication_date:2024-12-31&group_by=oa_status\n"
          ]
        }
      ],
      "source": [
        "# group_by_param = 'group_by=is_oa'\n",
        "group_by_param = 'group_by=oa_status'\n",
        "# group_by_param = 'group_by=topics.field.id' # 複数分野にまたがる論文は二重にカウント\n",
        "# group_by_param = 'group_by=primary_location.source.id' # 収録物名\n",
        "\n",
        "work_groups_url = f'{filtered_works_url}&{group_by_param}'\n",
        "print(f'complete URL with group_by:\\n{work_groups_url}')"
      ]
    },
    {
      "cell_type": "markdown",
      "id": "bc97ecd0-2605-4702-b48b-c83d9d090a95",
      "metadata": {
        "id": "bc97ecd0-2605-4702-b48b-c83d9d090a95"
      },
      "source": [
        "<hr>\n",
        "\n",
        "## 3. Count the number of works in each group\n",
        "\n",
        "After putting together the URL, we can query OpenAlex for the groups of publications and retrieve the following two groups:"
      ]
    },
    {
      "cell_type": "code",
      "execution_count": null,
      "id": "a7768120-47af-4a3a-bfda-f5cd7fed3046",
      "metadata": {
        "id": "a7768120-47af-4a3a-bfda-f5cd7fed3046"
      },
      "outputs": [],
      "source": [
        "import requests, json\n",
        "response = requests.get(work_groups_url).json()\n",
        "\n",
        "work_groups = response['group_by']\n",
        "print(json.dumps(work_groups, indent=2))"
      ]
    },
    {
      "cell_type": "markdown",
      "id": "8dc253db-a7b9-4cc3-93eb-5ab0d20f471f",
      "metadata": {
        "id": "8dc253db-a7b9-4cc3-93eb-5ab0d20f471f"
      },
      "source": [
        "Each group is made up of its `key` that contains the attribute value for the `group_by` attribute, in our case `is_oa`, and its `count` of entities belonging to the group. Given these data we can already answer our initial question:  \n",
        "> _How many of recent journal articles from a given institution are Open Access? And how many aren't?_"
      ]
    },
    {
      "cell_type": "code",
      "execution_count": null,
      "id": "cbe98e13-7716-4967-ac93-a3a7b420c3a8",
      "metadata": {
        "id": "cbe98e13-7716-4967-ac93-a3a7b420c3a8"
      },
      "outputs": [],
      "source": [
        "def calculate_oa_status_percentages(work_groups):\n",
        "    # 総出版物数を計算\n",
        "    total_count = sum(group['count'] for group in work_groups)\n",
        "\n",
        "    # 各OAステータスの割合を表示\n",
        "    for index, group in enumerate(work_groups):\n",
        "        oa_status = group['key_display_name']\n",
        "        count = group['count']\n",
        "        print(f\"--> Group {index+1} includes all works where `oa_status` is {oa_status} and has a count of {count} publications.\")\n",
        "\n",
        "        if total_count > 0:\n",
        "            percentage = count / total_count\n",
        "            print(f\"That makes a {oa_status} percentage of {percentage:.6f}\")\n",
        "        else:\n",
        "            print(f\"{oa_status} percentage can't be determined, no publications in result\")\n",
        "\n",
        "# 関数の実行\n",
        "calculate_oa_status_percentages(work_groups)\n"
      ]
    },
    {
      "cell_type": "markdown",
      "id": "ead1c279-ffd5-41bf-bd66-dd1cf9f8b3ce",
      "metadata": {
        "id": "ead1c279-ffd5-41bf-bd66-dd1cf9f8b3ce"
      },
      "source": [
        "<hr>\n",
        "\n",
        "## 4. Plot the data (optional)\n",
        "Last but not least we can put the data into a visually appealing plot. How about a donut plot?"
      ]
    },
    {
      "cell_type": "code",
      "execution_count": null,
      "id": "9b1f4de3-3a74-4a30-98a9-597e27778f96",
      "metadata": {
        "id": "9b1f4de3-3a74-4a30-98a9-597e27778f96"
      },
      "outputs": [],
      "source": [
        "import matplotlib.pyplot as plt\n",
        "\n",
        "# 円グラフに表示する見出し（分野等）\n",
        "field_name = \"\"\n",
        "\n",
        "# OAステータスの表示順と色（固定値）\n",
        "fixed_order = [\"closed\", \"gold\", \"hybrid\", \"bronze\", \"green\", \"diamond\"]\n",
        "fixed_colors = {\n",
        "    \"closed\": \"#f84f31\",\n",
        "    \"gold\": \"#f4c542\",\n",
        "    \"bronze\": \"#cd7f32\",\n",
        "    \"hybrid\": \"#6a5acd\",\n",
        "    \"green\": \"#23c552\",\n",
        "    \"diamond\": \"#00ced1\"\n",
        "}\n",
        "\n",
        "# ラベル、値、色を構築\n",
        "labels = []\n",
        "counts = []\n",
        "colors = {}\n",
        "\n",
        "if group_by_param == \"group_by=oa_status\":\n",
        "    labels = fixed_order\n",
        "    colors = fixed_colors\n",
        "    for label in labels:\n",
        "        count = next((group[\"count\"] for group in work_groups if group[\"key_display_name\"] == label), 0)\n",
        "        counts.append(count)\n",
        "else:\n",
        "    labels = [group[\"key_display_name\"] for group in work_groups]\n",
        "    counts = [group[\"count\"] for group in work_groups]\n",
        "    # 動的に色を割り当て（カラーマップを使用）\n",
        "    cmap = plt.get_cmap(\"tab20\")\n",
        "    colors = {label: cmap(i) for i, label in enumerate(labels)}\n",
        "\n",
        "# 総出版物数\n",
        "total_count = sum(counts)\n",
        "\n",
        "# ドーナツ型円グラフの作成\n",
        "def create_donut_plot(labels, counts, total_count, field_name, from_date, to_date):\n",
        "    # plt.rcParams[\"figure.figsize\"] = (8, 5.5) #幅, 高さ\n",
        "    plt.rcParams[\"figure.figsize\"] = (8, 5.5) #幅, 高さをここで調整\n",
        "    explode = [0.01] * len(labels)\n",
        "    color_list = [colors[label] for label in labels]\n",
        "\n",
        "    # 円グラフ\n",
        "    plt.pie(counts, labels=labels, colors=color_list,\n",
        "            autopct='%1.1f%%', pctdistance=0.85,\n",
        "            explode=explode, textprops={'fontsize': 14})\n",
        "\n",
        "    # 中央の白円\n",
        "    centre_circle = plt.Circle((0, 0), 0.70, fc='white')\n",
        "    fig = plt.gcf()\n",
        "    fig.gca().add_artist(centre_circle)\n",
        "\n",
        "    # 中央にフィルター情報と総数を表示（コンマ区切り）\n",
        "    center_text = f\"{field_name}\\nn = {total_count:,}\"\n",
        "    plt.text(0, 0, center_text, ha='center', va='center', fontsize=14)\n",
        "\n",
        "    # 外側下部に期間情報を表示\n",
        "    plt.figtext(0.5, 0.02, f\"from {from_date} to {to_date}\", ha='center', fontsize=12)\n",
        "\n",
        "    # 表示\n",
        "    plt.show()\n",
        "\n",
        "# グラフの描画\n",
        "create_donut_plot(labels, counts, total_count, field_name, from_date, to_date)"
      ]
    },
    {
      "cell_type": "markdown",
      "id": "403a64ee-56e5-41d6-b472-cd63765f7217",
      "metadata": {
        "id": "403a64ee-56e5-41d6-b472-cd63765f7217"
      },
      "source": [
        "---\n",
        "Feel free to use the notebook and determine the percentage of Open Access works for your institution or tweak the filters to fit your analysis.  \n",
        "\n",
        "Happy exploring! 😎"
      ]
    }
  ],
  "metadata": {
    "kernelspec": {
      "display_name": "Python 3 (ipykernel)",
      "language": "python",
      "name": "python3"
    },
    "language_info": {
      "codemirror_mode": {
        "name": "ipython",
        "version": 3
      },
      "file_extension": ".py",
      "mimetype": "text/x-python",
      "name": "python",
      "nbconvert_exporter": "python",
      "pygments_lexer": "ipython3",
      "version": "3.10.9"
    },
    "colab": {
      "provenance": []
    }
  },
  "nbformat": 4,
  "nbformat_minor": 5
}
