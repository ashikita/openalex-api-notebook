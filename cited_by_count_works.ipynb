{
  "nbformat": 4,
  "nbformat_minor": 0,
  "metadata": {
    "colab": {
      "provenance": [],
      "authorship_tag": "ABX9TyNIMmsV23w8kXUj9Us6/BJL",
      "include_colab_link": true
    },
    "kernelspec": {
      "name": "python3",
      "display_name": "Python 3"
    },
    "language_info": {
      "name": "python"
    }
  },
  "cells": [
    {
      "cell_type": "markdown",
      "metadata": {
        "id": "view-in-github",
        "colab_type": "text"
      },
      "source": [
        "<a href=\"https://colab.research.google.com/github/ashikita/openalex-api-notebook/blob/main/cited_by_count_works.ipynb\" target=\"_parent\"><img src=\"https://colab.research.google.com/assets/colab-badge.svg\" alt=\"Open In Colab\"/></a>"
      ]
    },
    {
      "cell_type": "code",
      "execution_count": null,
      "metadata": {
        "id": "6el20VQ4wvCy"
      },
      "outputs": [],
      "source": [
        "import pyalex\n",
        "from pyalex import Works\n",
        "import csv\n",
        "pyalex.config.email = \"hogehoge@m.kyushu-u.ac.jp\"\n",
        "\n",
        "# 論文データを取得（最大10件）\n",
        "results = Works() \\\n",
        "  .filter(\n",
        "      authorships={\"institutions\": {\"ror\": \"00p4k0j84\"}},\n",
        "      from_publication_date=\"2024-01-01\",\n",
        "      to_publication_date=\"2024-12-31\"\n",
        "  ) \\\n",
        "  .sort(cited_by_count=\"desc\") \\\n",
        "  .get(per_page=100)\n",
        "\n",
        "# 必要な要素だけ抽出\n",
        "filtered_results = []\n",
        "for work in results:\n",
        "    corresponding_authors = []\n",
        "    for authorship in work.get(\"authorships\", []):\n",
        "        if authorship.get(\"is_corresponding\"):\n",
        "            for institution in authorship.get(\"institutions\", []):\n",
        "                if institution.get(\"ror\") == \"https://ror.org/00p4k0j84\":\n",
        "                    display_name = authorship.get(\"author\", {}).get(\"display_name\")\n",
        "                    if display_name:\n",
        "                        corresponding_authors.append(display_name)\n",
        "                    break\n",
        "\n",
        "    filtered_results.append({\n",
        "        \"doi\": work.get(\"doi\"),\n",
        "        \"publication_date\": work.get(\"publication_date\"),\n",
        "        \"cited_by_count\": work.get(\"cited_by_count\"),\n",
        "        \"is_oa\": work.get(\"open_access\", {}).get(\"is_oa\"),\n",
        "        \"oa_status\": work.get(\"open_access\", {}).get(\"oa_status\"),\n",
        "        \"oa_url\": work.get(\"open_access\", {}).get(\"oa_url\"),\n",
        "        \"any_repository_has_fulltext\": work.get(\"open_access\", {}).get(\"any_repository_has_fulltext\"),\n",
        "        \"corresponding_authors\": \", \".join(corresponding_authors)\n",
        "    })\n",
        "\n",
        "# TSVファイルに保存\n",
        "with open(\"output.tsv\", \"w\", newline='', encoding=\"utf-8\") as f:\n",
        "    writer = csv.DictWriter(f, fieldnames=[\n",
        "        \"doi\", \"publication_date\", \"cited_by_count\",\n",
        "        \"is_oa\", \"oa_status\", \"oa_url\", \"any_repository_has_fulltext\",\n",
        "        \"corresponding_authors\"\n",
        "    ], delimiter='\\t')\n",
        "    writer.writeheader()\n",
        "    writer.writerows(filtered_results)\n",
        "\n",
        "print(\"✅ データは output.tsv に保存されました。\")"
      ]
    }
  ]
}